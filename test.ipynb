{
 "cells": [
  {
   "cell_type": "code",
   "execution_count": 1,
   "id": "b6ca2217",
   "metadata": {},
   "outputs": [],
   "source": [
    "# Imports\n",
    "import numpy as np\n",
    "import pandas as pd\n",
    "import matplotlib.pyplot as plt\n"
   ]
  },
  {
   "cell_type": "code",
   "execution_count": null,
   "id": "2e1d8d94",
   "metadata": {},
   "outputs": [],
   "source": []
  },
  {
   "cell_type": "markdown",
   "id": "2f72aa2d",
   "metadata": {},
   "source": [
    "### Munge/Munging/Wrangling \n",
    "\n",
    "- describes process of manipulating unstructured & or messy data"
   ]
  },
  {
   "cell_type": "code",
   "execution_count": 2,
   "id": "250551f8",
   "metadata": {},
   "outputs": [],
   "source": [
    "# Leetcode problem\n",
    "def findClosestNumber(nums):\n",
    "        closest = nums[0]\n",
    "        for x in nums:\n",
    "            if abs(x) < abs(closest):\n",
    "                closest = x\n",
    "\n",
    "        if closest < 0 and abs(closest) in nums:\n",
    "            return abs(closest)\n",
    "        else:\n",
    "            return closest\n",
    "\n",
    "        # Time: O(n)\n",
    "        # Space: O(1)"
   ]
  },
  {
   "cell_type": "code",
   "execution_count": 3,
   "id": "67cbf429",
   "metadata": {},
   "outputs": [
    {
     "name": "stdout",
     "output_type": "stream",
     "text": [
      "2\n",
      "-3\n"
     ]
    }
   ],
   "source": [
    "a = [2,3,4,5,9,-2]\n",
    "b = [5,76,-3]\n",
    "print(findClosestNumber(a))\n",
    "print(findClosestNumber(b))"
   ]
  }
 ],
 "metadata": {
  "kernelspec": {
   "display_name": "Python (apache-env)",
   "language": "python",
   "name": "apache-env"
  },
  "language_info": {
   "codemirror_mode": {
    "name": "ipython",
    "version": 3
   },
   "file_extension": ".py",
   "mimetype": "text/x-python",
   "name": "python",
   "nbconvert_exporter": "python",
   "pygments_lexer": "ipython3",
   "version": "3.11.5"
  }
 },
 "nbformat": 4,
 "nbformat_minor": 5
}
